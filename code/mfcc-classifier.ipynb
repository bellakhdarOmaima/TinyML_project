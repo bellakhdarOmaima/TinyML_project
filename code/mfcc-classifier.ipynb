{
 "cells": [
  {
   "cell_type": "code",
   "execution_count": 1,
   "id": "3c0acbf3",
   "metadata": {},
   "outputs": [],
   "source": [
    "from os import listdir\n",
    "from os.path import isdir, join\n",
    "from tensorflow.keras import layers, models\n",
    "import numpy as np"
   ]
  },
  {
   "cell_type": "code",
   "execution_count": 2,
   "id": "d642ec51",
   "metadata": {},
   "outputs": [
    {
     "name": "stdout",
     "output_type": "stream",
     "text": [
      "['right', 'eight', 'cat', 'tree', 'backward', 'learn', 'bed', 'happy', 'go', 'dog', 'no', 'wow', 'follow', 'nine', 'left', 'stop', 'three', 'sheila', 'one', 'bird', 'zero', 'seven', 'up', 'visual', 'marvin', 'two', 'house', 'down', 'six', 'yes', 'on', 'five', 'forward', 'off', 'four']\n"
     ]
    }
   ],
   "source": [
    "# Create list of all targets (minus background noise)\n",
    "dataset_path = '/Users/pro/Desktop/voiceRec/data_speech_commands_v0.02'\n",
    "all_targets = all_targets = [name for name in listdir(dataset_path) if isdir(join(dataset_path, name))]\n",
    "all_targets.remove('_background_noise_')\n",
    "print(all_targets)"
   ]
  },
  {
   "cell_type": "code",
   "execution_count": 3,
   "id": "b5002c54",
   "metadata": {},
   "outputs": [],
   "source": [
    "# Settings\n",
    "feature_sets_path = '/Users/pro/Desktop/voiceRec'\n",
    "feature_sets_filename = 'all_targets_mfcc_sets.npz'\n",
    "model_filename = 'wake_word_stop_model.h5'\n",
    "wake_word = 'stop'"
   ]
  },
  {
   "cell_type": "code",
   "execution_count": 4,
   "id": "fae09d96",
   "metadata": {},
   "outputs": [
    {
     "name": "stdout",
     "output_type": "stream",
     "text": [
      "['x_train', 'y_train', 'x_val', 'y_val', 'x_test', 'y_test']\n"
     ]
    }
   ],
   "source": [
    "# Load feature sets\n",
    "feature_sets = np.load(join(feature_sets_path, feature_sets_filename))\n",
    "print(feature_sets.files)"
   ]
  },
  {
   "cell_type": "code",
   "execution_count": 5,
   "id": "9e3d7e12",
   "metadata": {},
   "outputs": [],
   "source": [
    "# Assign feature sets\n",
    "x_train = feature_sets['x_train']\n",
    "y_train = feature_sets['y_train']\n",
    "x_val = feature_sets['x_val']\n",
    "y_val = feature_sets['y_val']\n",
    "x_test = feature_sets['x_test']\n",
    "y_test = feature_sets['y_test']"
   ]
  },
  {
   "cell_type": "code",
   "execution_count": 6,
   "id": "b70ce002",
   "metadata": {},
   "outputs": [
    {
     "name": "stdout",
     "output_type": "stream",
     "text": [
      "(77534, 16, 16)\n",
      "(9645, 16, 16)\n",
      "(9677, 16, 16)\n"
     ]
    }
   ],
   "source": [
    "# Look at tensor dimensions\n",
    "print(x_train.shape) #77534: Total number of words , Number of MFCC coefficients computed for each frame , Number of frames per word\n",
    "print(x_val.shape)   #\n",
    "print(x_test.shape)  #"
   ]
  },
  {
   "cell_type": "code",
   "execution_count": 7,
   "id": "35441ce1",
   "metadata": {},
   "outputs": [
    {
     "name": "stdout",
     "output_type": "stream",
     "text": [
      "[15. 33. 33. ...  2. 33.  8.]\n"
     ]
    }
   ],
   "source": [
    "# Peek at labels\n",
    "print(y_val)"
   ]
  },
  {
   "cell_type": "code",
   "execution_count": 8,
   "id": "bc7b2c39",
   "metadata": {},
   "outputs": [],
   "source": [
    "# Convert ground truth arrays to one wake word (1) and 'other' (0)\n",
    "wake_word_index = all_targets.index(wake_word)\n",
    "y_train = np.equal(y_train, wake_word_index).astype('float64')\n",
    "y_val = np.equal(y_val, wake_word_index).astype('float64')\n",
    "y_test = np.equal(y_test, wake_word_index).astype('float64')"
   ]
  },
  {
   "cell_type": "code",
   "execution_count": 9,
   "id": "36a105b5",
   "metadata": {},
   "outputs": [
    {
     "name": "stdout",
     "output_type": "stream",
     "text": [
      "[1. 0. 0. ... 0. 0. 0.]\n"
     ]
    }
   ],
   "source": [
    "# Peek at labels after conversion\n",
    "print(y_val)"
   ]
  },
  {
   "cell_type": "code",
   "execution_count": 10,
   "id": "501fd5bf",
   "metadata": {},
   "outputs": [
    {
     "name": "stdout",
     "output_type": "stream",
     "text": [
      "0.03608087091757387\n",
      "0.9639191290824262\n"
     ]
    }
   ],
   "source": [
    "# What percentage of 'stop' appear in validation labels\n",
    "print(sum(y_val) / len(y_val))\n",
    "print(1 - sum(y_val) / len(y_val))"
   ]
  },
  {
   "cell_type": "code",
   "execution_count": 11,
   "id": "85e56a92",
   "metadata": {},
   "outputs": [
    {
     "name": "stdout",
     "output_type": "stream",
     "text": [
      "(77534, 16, 16)\n"
     ]
    }
   ],
   "source": [
    "# View the dimensions of our input data\n",
    "print(x_train.shape)"
   ]
  },
  {
   "cell_type": "code",
   "execution_count": 12,
   "id": "874e0b69",
   "metadata": {},
   "outputs": [
    {
     "name": "stdout",
     "output_type": "stream",
     "text": [
      "(77534, 16, 16, 1)\n",
      "(9645, 16, 16, 1)\n",
      "(9677, 16, 16, 1)\n"
     ]
    }
   ],
   "source": [
    "# CNN for TF expects (batch, height, width, channels)\n",
    "# So we reshape the input tensors with a \"color\" channel of 1\n",
    "x_train = x_train.reshape(x_train.shape[0], \n",
    "                          x_train.shape[1], \n",
    "                          x_train.shape[2], \n",
    "                          1)\n",
    "x_val = x_val.reshape(x_val.shape[0], \n",
    "                      x_val.shape[1], \n",
    "                      x_val.shape[2], \n",
    "                      1)\n",
    "x_test = x_test.reshape(x_test.shape[0], \n",
    "                        x_test.shape[1], \n",
    "                        x_test.shape[2], \n",
    "                        1)\n",
    "print(x_train.shape)\n",
    "print(x_val.shape)\n",
    "print(x_test.shape)"
   ]
  },
  {
   "cell_type": "code",
   "execution_count": 13,
   "id": "2d2affac",
   "metadata": {},
   "outputs": [
    {
     "name": "stdout",
     "output_type": "stream",
     "text": [
      "(16, 16, 1)\n"
     ]
    }
   ],
   "source": [
    "# Input shape for CNN is size of MFCC of 1 sample\n",
    "sample_shape = x_test.shape[1:]\n",
    "print(sample_shape)"
   ]
  },
  {
   "cell_type": "code",
   "execution_count": 14,
   "id": "a21459d4",
   "metadata": {},
   "outputs": [],
   "source": [
    "# Build model\n",
    "# Based on: https://www.geeksforgeeks.org/python-image-classification-using-keras/\n",
    "model = models.Sequential()\n",
    "model.add(layers.Conv2D(32, \n",
    "                        (2, 2), \n",
    "                        activation='relu',\n",
    "                        input_shape=sample_shape))\n",
    "model.add(layers.MaxPooling2D(pool_size=(2, 2)))\n",
    "\n",
    "model.add(layers.Conv2D(32, (2, 2), activation='relu'))\n",
    "model.add(layers.MaxPooling2D(pool_size=(2, 2)))\n",
    "\n",
    "model.add(layers.Conv2D(64, (2, 2), activation='relu'))\n",
    "model.add(layers.MaxPooling2D(pool_size=(2, 2)))\n",
    "\n",
    "# Classifier\n",
    "model.add(layers.Flatten())\n",
    "model.add(layers.Dense(64, activation='relu'))\n",
    "model.add(layers.Dropout(0.5))\n",
    "model.add(layers.Dense(1, activation='sigmoid'))"
   ]
  },
  {
   "cell_type": "code",
   "execution_count": 15,
   "id": "f5681db3",
   "metadata": {},
   "outputs": [
    {
     "name": "stdout",
     "output_type": "stream",
     "text": [
      "Model: \"sequential\"\n",
      "_________________________________________________________________\n",
      " Layer (type)                Output Shape              Param #   \n",
      "=================================================================\n",
      " conv2d (Conv2D)             (None, 15, 15, 32)        160       \n",
      "                                                                 \n",
      " max_pooling2d (MaxPooling2D  (None, 7, 7, 32)         0         \n",
      " )                                                               \n",
      "                                                                 \n",
      " conv2d_1 (Conv2D)           (None, 6, 6, 32)          4128      \n",
      "                                                                 \n",
      " max_pooling2d_1 (MaxPooling  (None, 3, 3, 32)         0         \n",
      " 2D)                                                             \n",
      "                                                                 \n",
      " conv2d_2 (Conv2D)           (None, 2, 2, 64)          8256      \n",
      "                                                                 \n",
      " max_pooling2d_2 (MaxPooling  (None, 1, 1, 64)         0         \n",
      " 2D)                                                             \n",
      "                                                                 \n",
      " flatten (Flatten)           (None, 64)                0         \n",
      "                                                                 \n",
      " dense (Dense)               (None, 64)                4160      \n",
      "                                                                 \n",
      " dropout (Dropout)           (None, 64)                0         \n",
      "                                                                 \n",
      " dense_1 (Dense)             (None, 1)                 65        \n",
      "                                                                 \n",
      "=================================================================\n",
      "Total params: 16,769\n",
      "Trainable params: 16,769\n",
      "Non-trainable params: 0\n",
      "_________________________________________________________________\n"
     ]
    }
   ],
   "source": [
    "# Display model\n",
    "model.summary()"
   ]
  },
  {
   "cell_type": "code",
   "execution_count": 16,
   "id": "35e76815",
   "metadata": {},
   "outputs": [],
   "source": [
    "# Add training parameters to model\n",
    "model.compile(loss='binary_crossentropy', \n",
    "              optimizer='rmsprop', \n",
    "              metrics=['acc'])"
   ]
  },
  {
   "cell_type": "code",
   "execution_count": 17,
   "id": "1077d116",
   "metadata": {},
   "outputs": [
    {
     "name": "stdout",
     "output_type": "stream",
     "text": [
      "Epoch 1/30\n"
     ]
    },
    {
     "name": "stderr",
     "output_type": "stream",
     "text": [
      "2024-11-01 00:42:36.642653: W tensorflow/tsl/platform/profile_utils/cpu_utils.cc:128] Failed to get CPU frequency: 0 Hz\n"
     ]
    },
    {
     "name": "stdout",
     "output_type": "stream",
     "text": [
      "776/776 [==============================] - 3s 4ms/step - loss: 0.1150 - acc: 0.9663 - val_loss: 0.0747 - val_acc: 0.9777\n",
      "Epoch 2/30\n",
      "776/776 [==============================] - 3s 4ms/step - loss: 0.0736 - acc: 0.9774 - val_loss: 0.0606 - val_acc: 0.9818\n",
      "Epoch 3/30\n",
      "776/776 [==============================] - 3s 4ms/step - loss: 0.0617 - acc: 0.9810 - val_loss: 0.0542 - val_acc: 0.9821\n",
      "Epoch 4/30\n",
      "776/776 [==============================] - 3s 4ms/step - loss: 0.0555 - acc: 0.9833 - val_loss: 0.0799 - val_acc: 0.9802\n",
      "Epoch 5/30\n",
      "776/776 [==============================] - 3s 4ms/step - loss: 0.0525 - acc: 0.9840 - val_loss: 0.1083 - val_acc: 0.9611\n",
      "Epoch 6/30\n",
      "776/776 [==============================] - 3s 4ms/step - loss: 0.0532 - acc: 0.9849 - val_loss: 0.0492 - val_acc: 0.9857\n",
      "Epoch 7/30\n",
      "776/776 [==============================] - 3s 4ms/step - loss: 0.0526 - acc: 0.9849 - val_loss: 0.0663 - val_acc: 0.9851\n",
      "Epoch 8/30\n",
      "776/776 [==============================] - 4s 5ms/step - loss: 0.0550 - acc: 0.9846 - val_loss: 0.0498 - val_acc: 0.9853\n",
      "Epoch 9/30\n",
      "776/776 [==============================] - 4s 5ms/step - loss: 0.0545 - acc: 0.9853 - val_loss: 0.0789 - val_acc: 0.9812\n",
      "Epoch 10/30\n",
      "776/776 [==============================] - 4s 5ms/step - loss: 0.0552 - acc: 0.9846 - val_loss: 0.0505 - val_acc: 0.9840\n",
      "Epoch 11/30\n",
      "776/776 [==============================] - 4s 5ms/step - loss: 0.0552 - acc: 0.9850 - val_loss: 0.0619 - val_acc: 0.9847\n",
      "Epoch 12/30\n",
      "776/776 [==============================] - 4s 5ms/step - loss: 0.0556 - acc: 0.9843 - val_loss: 0.0926 - val_acc: 0.9753\n",
      "Epoch 13/30\n",
      "776/776 [==============================] - 4s 5ms/step - loss: 0.0541 - acc: 0.9849 - val_loss: 0.1373 - val_acc: 0.9543\n",
      "Epoch 14/30\n",
      "776/776 [==============================] - 4s 5ms/step - loss: 0.0566 - acc: 0.9852 - val_loss: 0.0636 - val_acc: 0.9857\n",
      "Epoch 15/30\n",
      "776/776 [==============================] - 4s 5ms/step - loss: 0.0565 - acc: 0.9846 - val_loss: 0.0721 - val_acc: 0.9805\n",
      "Epoch 16/30\n",
      "776/776 [==============================] - 4s 5ms/step - loss: 0.0545 - acc: 0.9850 - val_loss: 0.0573 - val_acc: 0.9844\n",
      "Epoch 17/30\n",
      "776/776 [==============================] - 4s 5ms/step - loss: 0.0555 - acc: 0.9850 - val_loss: 0.0800 - val_acc: 0.9862\n",
      "Epoch 18/30\n",
      "776/776 [==============================] - 4s 5ms/step - loss: 0.0552 - acc: 0.9849 - val_loss: 0.0704 - val_acc: 0.9813\n",
      "Epoch 19/30\n",
      "776/776 [==============================] - 4s 5ms/step - loss: 0.0533 - acc: 0.9844 - val_loss: 0.0559 - val_acc: 0.9803\n",
      "Epoch 20/30\n",
      "776/776 [==============================] - 4s 5ms/step - loss: 0.0519 - acc: 0.9849 - val_loss: 0.0579 - val_acc: 0.9866\n",
      "Epoch 21/30\n",
      "776/776 [==============================] - 4s 5ms/step - loss: 0.0522 - acc: 0.9847 - val_loss: 0.0947 - val_acc: 0.9788\n",
      "Epoch 22/30\n",
      "776/776 [==============================] - 4s 5ms/step - loss: 0.0559 - acc: 0.9849 - val_loss: 0.0595 - val_acc: 0.9857\n",
      "Epoch 23/30\n",
      "776/776 [==============================] - 4s 5ms/step - loss: 0.0538 - acc: 0.9850 - val_loss: 0.0576 - val_acc: 0.9840\n",
      "Epoch 24/30\n",
      "776/776 [==============================] - 4s 5ms/step - loss: 0.0546 - acc: 0.9855 - val_loss: 0.0516 - val_acc: 0.9843\n",
      "Epoch 25/30\n",
      "776/776 [==============================] - 4s 5ms/step - loss: 0.0533 - acc: 0.9849 - val_loss: 0.0461 - val_acc: 0.9863\n",
      "Epoch 26/30\n",
      "776/776 [==============================] - 4s 5ms/step - loss: 0.0537 - acc: 0.9850 - val_loss: 0.0539 - val_acc: 0.9835\n",
      "Epoch 27/30\n",
      "776/776 [==============================] - 4s 5ms/step - loss: 0.0547 - acc: 0.9850 - val_loss: 0.0564 - val_acc: 0.9830\n",
      "Epoch 28/30\n",
      "776/776 [==============================] - 4s 5ms/step - loss: 0.0547 - acc: 0.9846 - val_loss: 0.0539 - val_acc: 0.9856\n",
      "Epoch 29/30\n",
      "776/776 [==============================] - 4s 5ms/step - loss: 0.0531 - acc: 0.9846 - val_loss: 0.0670 - val_acc: 0.9851\n",
      "Epoch 30/30\n",
      "776/776 [==============================] - 4s 5ms/step - loss: 0.0570 - acc: 0.9849 - val_loss: 0.0689 - val_acc: 0.9825\n"
     ]
    }
   ],
   "source": [
    "history = model.fit(\n",
    "    x_train,\n",
    "    y_train,\n",
    "    epochs=30,\n",
    "    batch_size=100,\n",
    "    validation_data=(x_val, y_val),\n",
    ")"
   ]
  },
  {
   "cell_type": "code",
   "execution_count": 18,
   "id": "9dd29979",
   "metadata": {},
   "outputs": [
    {
     "data": {
      "image/png": "[encoded data removed]",
      "text/plain": [
       "<Figure size 640x480 with 1 Axes>"
      ]
     },
     "metadata": {},
     "output_type": "display_data"
    },
    {
     "data": {
      "image/png": "[encoded data removed]",
      "text/plain": [
       "<Figure size 640x480 with 1 Axes>"
      ]
     },
     "metadata": {},
     "output_type": "display_data"
    }
   ],
   "source": [
    "\n",
    "# Plot results\n",
    "import matplotlib.pyplot as plt\n",
    "\n",
    "acc = history.history['acc']\n",
    "val_acc = history.history['val_acc']\n",
    "loss = history.history['loss']\n",
    "val_loss = history.history['val_loss']\n",
    "\n",
    "epochs = range(1, len(acc) + 1)\n",
    "\n",
    "plt.plot(epochs, acc, 'bo', label='Training acc')\n",
    "plt.plot(epochs, val_acc, 'b', label='Validation acc')\n",
    "plt.title('Training and validation accuracy')\n",
    "plt.legend()\n",
    "\n",
    "plt.figure()\n",
    "\n",
    "plt.plot(epochs, loss, 'bo', label='Training loss')\n",
    "plt.plot(epochs, val_loss, 'b', label='Validation loss')\n",
    "plt.title('Training and validation loss')\n",
    "plt.legend()\n",
    "\n",
    "plt.show()"
   ]
  },
  {
   "cell_type": "code",
   "execution_count": 19,
   "id": "01de5fa7",
   "metadata": {},
   "outputs": [],
   "source": [
    "# Save the model as a file\n",
    "models.save_model(model, model_filename)"
   ]
  },
  {
   "cell_type": "code",
   "execution_count": 23,
   "id": "6416e0b4",
   "metadata": {},
   "outputs": [],
   "source": [
    "# Save the model as a file\n",
    "model_filename1 = '/Users/pro/Desktop/voiceRec/wake_word_stop_model.h5'\n",
    "\n",
    "models.save_model(model, model_filename1)\n"
   ]
  },
  {
   "cell_type": "code",
   "execution_count": 20,
   "id": "a433c7b2",
   "metadata": {},
   "outputs": [
    {
     "name": "stdout",
     "output_type": "stream",
     "text": [
      "31\n",
      "36\n",
      "46\n",
      "63\n",
      "93\n",
      "109\n",
      "110\n",
      "198\n",
      "205\n",
      "283\n",
      "333\n",
      "361\n",
      "370\n",
      "377\n",
      "429\n",
      "461\n",
      "471\n",
      "488\n",
      "503\n",
      "520\n",
      "543\n",
      "548\n",
      "619\n",
      "673\n",
      "702\n",
      "725\n",
      "736\n",
      "766\n",
      "817\n",
      "876\n",
      "883\n",
      "945\n",
      "966\n",
      "999\n",
      "1095\n",
      "1113\n",
      "1117\n",
      "1143\n",
      "1149\n",
      "1160\n",
      "1186\n",
      "1195\n",
      "1213\n",
      "1220\n",
      "1225\n",
      "1229\n",
      "1230\n",
      "1257\n",
      "1259\n",
      "1265\n",
      "1272\n",
      "1517\n",
      "1540\n",
      "1545\n",
      "1583\n",
      "1598\n",
      "1689\n",
      "1731\n",
      "1736\n",
      "1739\n",
      "1783\n",
      "1810\n",
      "1876\n",
      "1889\n",
      "1896\n",
      "1905\n",
      "1999\n",
      "2009\n",
      "2037\n",
      "2072\n",
      "2086\n",
      "2111\n",
      "2160\n",
      "2186\n",
      "2190\n",
      "2200\n",
      "2229\n",
      "2240\n",
      "2245\n",
      "2274\n",
      "2331\n",
      "2340\n",
      "2398\n",
      "2401\n",
      "2439\n",
      "2440\n",
      "2442\n",
      "2445\n",
      "2451\n",
      "2461\n",
      "2496\n",
      "2497\n",
      "2521\n",
      "2539\n",
      "2540\n",
      "2545\n",
      "2557\n",
      "2559\n",
      "2619\n",
      "2652\n",
      "2653\n",
      "2659\n",
      "2666\n",
      "2709\n",
      "2727\n",
      "2737\n",
      "2770\n",
      "2792\n",
      "2803\n",
      "2829\n",
      "2840\n",
      "2928\n",
      "2931\n",
      "2944\n",
      "2961\n",
      "2992\n",
      "3008\n",
      "3022\n",
      "3027\n",
      "3028\n",
      "3033\n",
      "3050\n",
      "3055\n",
      "3098\n",
      "3149\n",
      "3152\n",
      "3167\n",
      "3198\n",
      "3208\n",
      "3229\n",
      "3233\n",
      "3315\n",
      "3416\n",
      "3465\n",
      "3479\n",
      "3518\n",
      "3532\n",
      "3603\n",
      "3606\n",
      "3627\n",
      "3659\n",
      "3701\n",
      "3714\n",
      "3917\n",
      "3926\n",
      "3997\n",
      "4000\n",
      "4029\n",
      "4064\n",
      "4097\n",
      "4156\n",
      "4174\n",
      "4202\n",
      "4205\n",
      "4212\n",
      "4253\n",
      "4261\n",
      "4353\n",
      "4386\n",
      "4393\n",
      "4411\n",
      "4419\n",
      "4430\n",
      "4473\n",
      "4474\n",
      "4518\n",
      "4530\n",
      "4656\n",
      "4677\n",
      "4700\n",
      "4708\n",
      "4734\n",
      "4772\n",
      "4832\n",
      "4842\n",
      "4865\n",
      "4872\n",
      "4875\n",
      "4969\n",
      "5014\n",
      "5067\n",
      "5075\n",
      "5107\n",
      "5113\n",
      "5118\n",
      "5166\n",
      "5220\n",
      "5254\n",
      "5311\n",
      "5312\n",
      "5324\n",
      "5345\n",
      "5377\n",
      "5396\n",
      "5427\n",
      "5447\n",
      "5474\n",
      "5497\n",
      "5525\n",
      "5587\n",
      "5590\n",
      "5628\n",
      "5647\n",
      "5657\n",
      "5673\n",
      "5731\n",
      "5743\n",
      "5763\n",
      "5783\n",
      "5843\n",
      "5865\n",
      "5869\n",
      "5871\n",
      "5932\n",
      "5934\n",
      "5974\n",
      "5984\n",
      "5992\n",
      "5999\n",
      "6037\n",
      "6038\n",
      "6071\n",
      "6103\n",
      "6111\n",
      "6112\n",
      "6122\n",
      "6130\n",
      "6135\n",
      "6165\n",
      "6174\n",
      "6183\n",
      "6205\n",
      "6210\n",
      "6217\n",
      "6256\n",
      "6257\n",
      "6312\n",
      "6348\n",
      "6392\n",
      "6394\n",
      "6417\n",
      "6425\n",
      "6442\n",
      "6460\n",
      "6470\n",
      "6482\n",
      "6541\n",
      "6543\n",
      "6584\n",
      "6586\n",
      "6596\n",
      "6600\n",
      "6641\n",
      "6663\n",
      "6671\n",
      "6712\n",
      "6805\n",
      "6840\n",
      "6911\n",
      "6916\n",
      "6939\n",
      "6975\n",
      "6997\n",
      "7003\n",
      "7042\n",
      "7054\n",
      "7057\n",
      "7085\n",
      "7116\n",
      "7157\n",
      "7171\n",
      "7192\n",
      "7234\n",
      "7277\n",
      "7291\n",
      "7317\n",
      "7347\n",
      "7355\n",
      "7358\n",
      "7364\n",
      "7409\n",
      "7455\n",
      "7490\n",
      "7525\n",
      "7532\n",
      "7549\n",
      "7554\n",
      "7576\n",
      "7589\n",
      "7647\n",
      "7668\n",
      "7672\n",
      "7673\n",
      "7679\n",
      "7706\n",
      "7725\n",
      "7797\n",
      "7801\n",
      "7809\n",
      "7837\n",
      "7855\n",
      "7856\n",
      "7860\n",
      "7876\n",
      "7988\n",
      "8006\n",
      "8038\n",
      "8066\n",
      "8070\n",
      "8081\n",
      "8118\n",
      "8130\n",
      "8166\n",
      "8178\n",
      "8213\n",
      "8219\n",
      "8266\n",
      "8270\n",
      "8274\n",
      "8300\n",
      "8343\n",
      "8405\n",
      "8449\n",
      "8506\n",
      "8534\n",
      "8554\n",
      "8568\n",
      "8607\n",
      "8616\n",
      "8623\n",
      "8663\n",
      "8724\n",
      "8727\n",
      "8736\n",
      "8742\n",
      "8792\n",
      "8822\n",
      "8832\n",
      "8845\n",
      "8899\n",
      "8954\n",
      "9051\n",
      "9097\n",
      "9127\n",
      "9136\n",
      "9229\n",
      "9258\n",
      "9291\n",
      "9305\n",
      "9349\n",
      "9368\n",
      "9393\n",
      "9443\n",
      "9484\n",
      "9493\n",
      "9503\n",
      "9504\n",
      "9516\n",
      "9547\n",
      "9563\n",
      "9580\n",
      "9583\n",
      "9666\n"
     ]
    }
   ],
   "source": [
    "# See which are 'stop'\n",
    "for idx, y in enumerate(y_test):\n",
    "    if y == 1:\n",
    "        print(idx)"
   ]
  },
  {
   "cell_type": "code",
   "execution_count": 21,
   "id": "cb76a764",
   "metadata": {},
   "outputs": [
    {
     "name": "stdout",
     "output_type": "stream",
     "text": [
      "1/1 [==============================] - 0s 39ms/step\n",
      "Answer: 0.0  Prediction: [[0.0006655]]\n",
      "1/1 [==============================] - 0s 9ms/step\n",
      "Answer: 0.0  Prediction: [[2.0467765e-16]]\n",
      "1/1 [==============================] - 0s 8ms/step\n",
      "Answer: 0.0  Prediction: [[1.10068704e-10]]\n",
      "1/1 [==============================] - 0s 9ms/step\n",
      "Answer: 0.0  Prediction: [[0.00043177]]\n",
      "1/1 [==============================] - 0s 8ms/step\n",
      "Answer: 0.0  Prediction: [[0.03094363]]\n",
      "1/1 [==============================] - 0s 8ms/step\n",
      "Answer: 0.0  Prediction: [[4.8726287e-11]]\n",
      "1/1 [==============================] - 0s 8ms/step\n",
      "Answer: 0.0  Prediction: [[1.7468357e-06]]\n",
      "1/1 [==============================] - 0s 8ms/step\n",
      "Answer: 0.0  Prediction: [[1.9234074e-06]]\n",
      "1/1 [==============================] - 0s 8ms/step\n",
      "Answer: 0.0  Prediction: [[0.24521056]]\n",
      "1/1 [==============================] - 0s 8ms/step\n",
      "Answer: 1.0  Prediction: [[0.9999976]]\n"
     ]
    }
   ],
   "source": [
    "# TEST: Load model and run it against test set\n",
    "model = models.load_model(model_filename)\n",
    "for i in range(100, 110):\n",
    "    print('Answer:', y_test[i], ' Prediction:', model.predict(np.expand_dims(x_test[i], 0)))"
   ]
  },
  {
   "cell_type": "code",
   "execution_count": 22,
   "id": "01e32fef",
   "metadata": {},
   "outputs": [
    {
     "name": "stdout",
     "output_type": "stream",
     "text": [
      "303/303 [==============================] - 0s 1ms/step - loss: 0.0794 - acc: 0.9834\n"
     ]
    },
    {
     "data": {
      "text/plain": [
       "[0.07938062399625778, 0.98336261510849]"
      ]
     },
     "execution_count": 22,
     "metadata": {},
     "output_type": "execute_result"
    }
   ],
   "source": [
    "# Evaluate model with test set\n",
    "model.evaluate(x=x_test, y=y_test)"
   ]
  },
  {
   "cell_type": "code",
   "execution_count": 24,
   "id": "46be0757",
   "metadata": {},
   "outputs": [
    {
     "name": "stdout",
     "output_type": "stream",
     "text": [
      "2.12.0\n"
     ]
    }
   ],
   "source": [
    "import tensorflow as tf\n",
    "print(tf.__version__)\n"
   ]
  },
  {
   "cell_type": "code",
   "execution_count": null,
   "id": "43b601ab",
   "metadata": {},
   "outputs": [],
   "source": []
  }
 ],
 "metadata": {
  "kernelspec": {
   "display_name": "Python 3 (ipykernel)",
   "language": "python",
   "name": "python3"
  },
  "language_info": {
   "codemirror_mode": {
    "name": "ipython",
    "version": 3
   },
   "file_extension": ".py",
   "mimetype": "text/x-python",
   "name": "python",
   "nbconvert_exporter": "python",
   "pygments_lexer": "ipython3",
   "version": "3.11.0"
  }
 },
 "nbformat": 4,
 "nbformat_minor": 5
}
